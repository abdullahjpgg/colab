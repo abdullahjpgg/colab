{
  "cells": [
    {
      "cell_type": "markdown",
      "metadata": {
        "id": "view-in-github",
        "colab_type": "text"
      },
      "source": [
        "<a href=\"https://colab.research.google.com/github/abdullahjpgg/colab/blob/main/Copy_of_Untitled1.ipynb\" target=\"_parent\"><img src=\"https://colab.research.google.com/assets/colab-badge.svg\" alt=\"Open In Colab\"/></a>"
      ]
    },
    {
      "cell_type": "code",
      "execution_count": null,
      "metadata": {
        "colab": {
          "base_uri": "https://localhost:8080/"
        },
        "id": "wI6uXxXjNgET",
        "outputId": "7d68cd93-9f44-4659-d611-b849c60f2523"
      },
      "outputs": [
        {
          "output_type": "stream",
          "name": "stdout",
          "text": [
            "enter the adjective: lush\n",
            "enter the adjective: bright\n",
            "enter the adjective: wagging\n",
            "enter the noun: puppy\n",
            "enter the noun: paws\n",
            "enter the noun: breeze\n",
            "enter the verb: swayed\n",
            "The energetic puppy dashed across the lush, green meadow, chasing a bright, fluttering butterfly.\n",
            "Its tiny paws pounded against the soft earth, and its wagging tail swayed like a rhythmic metronome in the gentle breeze.\n"
          ]
        }
      ],
      "source": [
        "adjective1 = input(\"enter the adjective: \")\n",
        "adjective2 = input(\"enter the adjective: \")\n",
        "adjective3 = input(\"enter the adjective: \")\n",
        "noun1 = input(\"enter the noun: \")\n",
        "noun2 = input(\"enter the noun: \")\n",
        "noun3 = input(\"enter the noun: \")\n",
        "verb = input(\"enter the verb: \")\n",
        "\n",
        "# adjectives : lush, bright, wagging\n",
        "# nouns : puppy, paws, breeze\n",
        "# verb : swayed\n",
        "\n",
        "print(f\"\"\"The energetic {noun1} dashed across the {adjective1}, green meadow, chasing a {adjective2}, fluttering butterfly.\n",
        "Its tiny {noun2} pounded against the soft earth, and its {adjective3} tail {verb} like a rhythmic metronome in the gentle {noun3}.\"\"\")"
      ]
    },
    {
      "cell_type": "markdown",
      "source": [],
      "metadata": {
        "id": "VrHZubPW0z1g"
      }
    }
  ],
  "metadata": {
    "colab": {
      "provenance": [],
      "authorship_tag": "ABX9TyPkhOvi5Y4Gq06ziNwiuuDb",
      "include_colab_link": true
    },
    "kernelspec": {
      "display_name": "Python 3",
      "name": "python3"
    },
    "language_info": {
      "name": "python"
    }
  },
  "nbformat": 4,
  "nbformat_minor": 0
}